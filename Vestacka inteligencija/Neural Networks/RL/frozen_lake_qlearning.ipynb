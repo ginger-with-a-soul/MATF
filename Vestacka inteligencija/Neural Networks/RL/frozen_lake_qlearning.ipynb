{
  "nbformat": 4,
  "nbformat_minor": 0,
  "metadata": {
    "colab": {
      "name": "01.final.frozen.lake.qlearning.ipynb",
      "provenance": [],
      "collapsed_sections": []
    },
    "kernelspec": {
      "name": "pycharm-40a70f3f",
      "display_name": "PyCharm (jupyter)",
      "language": "python"
    }
  },
  "cells": [
    {
      "cell_type": "code",
      "metadata": {
        "id": "saBGfhNXv-sn",
        "colab_type": "code",
        "colab": {}
      },
      "source": [
        "import numpy as np\n",
        "import gym\n",
        "from gym import wrappers\n",
        "from tqdm import tqdm\n",
        "import matplotlib.pyplot as plt"
      ],
      "execution_count": 0,
      "outputs": []
    },
    {
      "cell_type": "markdown",
      "metadata": {
        "id": "Qa0uYy5CxBgL",
        "colab_type": "text"
      },
      "source": [
        "# Okruženje `Frozen Lake`\n",
        "\n",
        "<img src=\"https://miro.medium.com/max/1300/1*S6CG3jyp5rGxMUGw_Bqr3Q.png\" alt=\"frozen lake\">>\n",
        "\n",
        "Mapa je veličine 4x4, pri čemu polje može biti:\n",
        "- Start `S` (eng.start)\n",
        "- Zamrznuto polje `F` (eng. frozen)\n",
        "- Rupa `H` (eng. hole)\n",
        "- Cilj `G` (eng. goal)\n",
        "\n",
        "Agent u svakom trenutku može primeniti jednu od 4 akcije:\n",
        "- Gore\n",
        "- Dole\n",
        "- Levo\n",
        "- Desno\n",
        "\n",
        "Važna napomena je da je jako hladno i klizavo, tako da može da se desi\n",
        "da se agent oklizne i ne uspe da sprovede akciju koju je namerio, odnosno\n",
        "da se pomeri u nekom drugom smeru. Nije poznato koliko često i kako se\n",
        "ovo dešava."
      ]
    },
    {
      "cell_type": "markdown",
      "metadata": {
        "id": "uPKdSGIDy6hY",
        "colab_type": "text"
      },
      "source": [
        "### Parametri za Q učenje"
      ]
    },
    {
      "cell_type": "code",
      "metadata": {
        "id": "LdpIjsHOww5m",
        "colab_type": "code",
        "colab": {}
      },
      "source": [
        "ALPHA = 0.1 # learning rate\n",
        "GAMMA = 0.99 # reward discount\n",
        "MAX_EPISODES = 100000\n",
        "TEST_COUNT = 10000\n",
        "\n",
        "TURN_LIMIT = 100\n",
        "IS_MONITOR = False\n"
      ],
      "execution_count": 0,
      "outputs": []
    },
    {
      "cell_type": "code",
      "metadata": {
        "id": "t94VVwt-w54E",
        "colab_type": "code",
        "colab": {}
      },
      "source": [
        "class Agent:\n",
        "    def __init__(self, env, learning_rate, gamma, max_steps):\n",
        "        self.env = env\n",
        "        self.episode_reward = 0.0\n",
        "        self.q_val = np.zeros(16 * 4).reshape(16, 4).astype(np.float32)\n",
        "        self.learning_rate = learning_rate\n",
        "        self.gamma = gamma\n",
        "        self.max_steps = max_steps\n",
        "\n",
        "    def learn_step(self):\n",
        "        # Uzimamo pocetno stanje\n",
        "        state = self.env.reset()\n",
        "\n",
        "        # Za slucaj da zelite vizuelizaciju tokom ucenja,\n",
        "        # mozete korisiti `render()`.\n",
        "        # self.env.render()\n",
        "        \n",
        "        for t in range(self.max_steps):\n",
        "            # Uzimamo nasumicnu akciju\n",
        "            act = self.env.action_space.sample() # random\n",
        "\n",
        "            # Prosledjujemo je okruzenju i prihvatamo nove informacije.\n",
        "            next_state, reward, done, _ = self.env.step(act)\n",
        "            q_next_max = np.max(self.q_val[next_state])\n",
        "            self.q_val[state][act] = (1 - self.learning_rate) * self.q_val[state][act] + self.learning_rate * (reward + self.gamma * q_next_max)\n",
        "            \n",
        "            # self.env.render()\n",
        "\n",
        "            # Ako je agent stigao do cilja ili je upao u rupu, vracamo nagradu\n",
        "            if done:\n",
        "                return reward\n",
        "            # Inace, azuriramo tekuce stanje i nastavljamo dalje.\n",
        "            else:\n",
        "                state = next_state\n",
        "\n",
        "        return 0.0 # over limit\n",
        "\n",
        "    def test_run(self, should_render=False):\n",
        "        state = self.env.reset()\n",
        "\n",
        "        if should_render:\n",
        "            self.env.render()\n",
        "\n",
        "        for t in range(self.max_steps):\n",
        "            act = np.argmax(self.q_val[state])\n",
        "            next_state, reward, done, info = self.env.step(act)\n",
        "\n",
        "            if should_render:\n",
        "                self.env.render()\n",
        "\n",
        "            if done:\n",
        "                return reward\n",
        "            else:\n",
        "                state = next_state\n",
        "        return 0.0 # over limit"
      ],
      "execution_count": 0,
      "outputs": []
    },
    {
      "cell_type": "markdown",
      "metadata": {
        "id": "aip4xcdS5Nnr",
        "colab_type": "text"
      },
      "source": [
        "Konstruišemo okruženje i našeg agenta.\n",
        "\n",
        "Biblioteka `gym` pruža veliki broj različitih okruženja koje je moguće\n",
        "konstruisati. String `FrozenLake-v0` je identifikator okruženja\n",
        "koje nam je potrebno."
      ]
    },
    {
      "cell_type": "code",
      "metadata": {
        "id": "6WG-ebAtww-4",
        "colab_type": "code",
        "colab": {}
      },
      "source": [
        "env = gym.make(\"FrozenLake-v0\")\n",
        "agent = Agent(env, ALPHA, GAMMA, TURN_LIMIT)"
      ],
      "execution_count": 0,
      "outputs": []
    },
    {
      "cell_type": "markdown",
      "metadata": {
        "id": "kc_hufLT59is",
        "colab_type": "text"
      },
      "source": [
        "Primenjujemo Q učenje tako što puštamo agenta da odigra određeni broj epizoda.\n",
        "Ono što agent nauči biće dostupno u njegovoj *q tabeli*."
      ]
    },
    {
      "cell_type": "code",
      "metadata": {
        "id": "NOYCH2GTww8G",
        "colab_type": "code",
        "colab": {
          "base_uri": "https://localhost:8080/",
          "height": 34
        },
        "outputId": "2228f235-255b-4834-e8f5-4f2b96567f3e"
      },
      "source": [
        "reward_total = 0.0\n",
        "for i in tqdm(range(MAX_EPISODES)):\n",
        "    reward_total += agent.learn_step()\n"
      ],
      "execution_count": 36,
      "outputs": [
        {
          "output_type": "stream",
          "text": [
            "100%|██████████| 100000/100000 [00:34<00:00, 2918.38it/s]\n"
          ],
          "name": "stderr"
        }
      ]
    },
    {
      "cell_type": "code",
      "metadata": {
        "id": "Xip4je093K5j",
        "colab_type": "code",
        "colab": {
          "base_uri": "https://localhost:8080/",
          "height": 357
        },
        "outputId": "703d175d-44e8-4258-edee-4054202ddd05"
      },
      "source": [
        "print(\"episodes      : {}\".format(MAX_EPISODES))\n",
        "print(\"total reward  : {}\".format(reward_total))\n",
        "print(\"average reward: {:.2f}\".format(reward_total / MAX_EPISODES))\n",
        "print(\"Q table:\\n{}\".format(agent.q_val))"
      ],
      "execution_count": 37,
      "outputs": [
        {
          "output_type": "stream",
          "text": [
            "episodes      : 100000\n",
            "total reward  : 1345.0\n",
            "average reward: 0.01\n",
            "Q table:\n",
            "[[0.5900988  0.5792401  0.57099426 0.56243795]\n",
            " [0.3203432  0.23426443 0.27651364 0.54371655]\n",
            " [0.47778538 0.4715293  0.46326944 0.495587  ]\n",
            " [0.34143043 0.30534077 0.2388659  0.48323044]\n",
            " [0.59793204 0.34002882 0.33286148 0.39986297]\n",
            " [0.         0.         0.         0.        ]\n",
            " [0.43849084 0.19339718 0.43643847 0.11554289]\n",
            " [0.         0.         0.         0.        ]\n",
            " [0.4169602  0.48160893 0.42613843 0.6321308 ]\n",
            " [0.43762892 0.6826096  0.46429408 0.4072147 ]\n",
            " [0.68904185 0.40753657 0.5046593  0.38935733]\n",
            " [0.         0.         0.         0.        ]\n",
            " [0.         0.         0.         0.        ]\n",
            " [0.5323027  0.6501748  0.8146313  0.6486586 ]\n",
            " [0.82312495 0.9155629  0.8649174  0.827996  ]\n",
            " [0.         0.         0.         0.        ]]\n"
          ],
          "name": "stdout"
        }
      ]
    },
    {
      "cell_type": "markdown",
      "metadata": {
        "id": "Zz-DPl0c6P_I",
        "colab_type": "text"
      },
      "source": [
        "Možemo pustiti agenta da se kreće kroz okruženje prateći svoju Q tabelu."
      ]
    },
    {
      "cell_type": "code",
      "metadata": {
        "id": "OVsJegIxwBjx",
        "colab_type": "code",
        "colab": {
          "base_uri": "https://localhost:8080/",
          "height": 68
        },
        "outputId": "1dff93b8-333e-4adc-dba6-37011282d7eb"
      },
      "source": [
        "reward_total = 0.0\n",
        "for i in range(TEST_COUNT):\n",
        "    reward_total += agent.test_run()\n",
        "print(\"episodes      : {}\".format(TEST_COUNT))\n",
        "print(\"total reward  : {}\".format(reward_total))\n",
        "print(\"average reward: {:.2f}\".format(reward_total / TEST_COUNT))"
      ],
      "execution_count": 38,
      "outputs": [
        {
          "output_type": "stream",
          "text": [
            "episodes      : 10000\n",
            "total reward  : 7369.0\n",
            "average reward: 0.74\n"
          ],
          "name": "stdout"
        }
      ]
    },
    {
      "cell_type": "markdown",
      "metadata": {
        "id": "9vDb8NfG7OOD",
        "colab_type": "text"
      },
      "source": [
        "I vizuelizovati njegovo kretanje. Prisetite se okruženje ima određenu dozu stohastičnosti, tako da postoje situacije u kojim se agent ne pomeri u\n",
        "željenom smeru."
      ]
    },
    {
      "cell_type": "code",
      "metadata": {
        "id": "LLGkgn6d6W0w",
        "colab_type": "code",
        "colab": {
          "base_uri": "https://localhost:8080/",
          "height": 1000
        },
        "outputId": "56b40e01-559f-455f-d063-9ef0507e8d2d"
      },
      "source": [
        "reward = agent.test_run(True)"
      ],
      "execution_count": 39,
      "outputs": [
        {
          "output_type": "stream",
          "text": [
            "\n",
            "\u001b[41mS\u001b[0mFFF\n",
            "FHFH\n",
            "FFFH\n",
            "HFFG\n",
            "  (Left)\n",
            "\u001b[41mS\u001b[0mFFF\n",
            "FHFH\n",
            "FFFH\n",
            "HFFG\n",
            "  (Left)\n",
            "\u001b[41mS\u001b[0mFFF\n",
            "FHFH\n",
            "FFFH\n",
            "HFFG\n",
            "  (Left)\n",
            "\u001b[41mS\u001b[0mFFF\n",
            "FHFH\n",
            "FFFH\n",
            "HFFG\n",
            "  (Left)\n",
            "\u001b[41mS\u001b[0mFFF\n",
            "FHFH\n",
            "FFFH\n",
            "HFFG\n",
            "  (Left)\n",
            "SFFF\n",
            "\u001b[41mF\u001b[0mHFH\n",
            "FFFH\n",
            "HFFG\n",
            "  (Left)\n",
            "\u001b[41mS\u001b[0mFFF\n",
            "FHFH\n",
            "FFFH\n",
            "HFFG\n",
            "  (Left)\n",
            "\u001b[41mS\u001b[0mFFF\n",
            "FHFH\n",
            "FFFH\n",
            "HFFG\n",
            "  (Left)\n",
            "\u001b[41mS\u001b[0mFFF\n",
            "FHFH\n",
            "FFFH\n",
            "HFFG\n",
            "  (Left)\n",
            "\u001b[41mS\u001b[0mFFF\n",
            "FHFH\n",
            "FFFH\n",
            "HFFG\n",
            "  (Left)\n",
            "\u001b[41mS\u001b[0mFFF\n",
            "FHFH\n",
            "FFFH\n",
            "HFFG\n",
            "  (Left)\n",
            "SFFF\n",
            "\u001b[41mF\u001b[0mHFH\n",
            "FFFH\n",
            "HFFG\n",
            "  (Left)\n",
            "\u001b[41mS\u001b[0mFFF\n",
            "FHFH\n",
            "FFFH\n",
            "HFFG\n",
            "  (Left)\n",
            "SFFF\n",
            "\u001b[41mF\u001b[0mHFH\n",
            "FFFH\n",
            "HFFG\n",
            "  (Left)\n",
            "\u001b[41mS\u001b[0mFFF\n",
            "FHFH\n",
            "FFFH\n",
            "HFFG\n",
            "  (Left)\n",
            "\u001b[41mS\u001b[0mFFF\n",
            "FHFH\n",
            "FFFH\n",
            "HFFG\n",
            "  (Left)\n",
            "SFFF\n",
            "\u001b[41mF\u001b[0mHFH\n",
            "FFFH\n",
            "HFFG\n",
            "  (Left)\n",
            "SFFF\n",
            "\u001b[41mF\u001b[0mHFH\n",
            "FFFH\n",
            "HFFG\n",
            "  (Left)\n",
            "SFFF\n",
            "FHFH\n",
            "\u001b[41mF\u001b[0mFFH\n",
            "HFFG\n",
            "  (Up)\n",
            "SFFF\n",
            "FHFH\n",
            "F\u001b[41mF\u001b[0mFH\n",
            "HFFG\n",
            "  (Down)\n",
            "SFFF\n",
            "FHFH\n",
            "FFFH\n",
            "H\u001b[41mF\u001b[0mFG\n",
            "  (Right)\n",
            "SFFF\n",
            "FHFH\n",
            "FFFH\n",
            "H\u001b[41mF\u001b[0mFG\n",
            "  (Right)\n",
            "SFFF\n",
            "FHFH\n",
            "F\u001b[41mF\u001b[0mFH\n",
            "HFFG\n",
            "  (Down)\n",
            "SFFF\n",
            "FHFH\n",
            "FFFH\n",
            "H\u001b[41mF\u001b[0mFG\n",
            "  (Right)\n",
            "SFFF\n",
            "FHFH\n",
            "F\u001b[41mF\u001b[0mFH\n",
            "HFFG\n",
            "  (Down)\n",
            "SFFF\n",
            "FHFH\n",
            "FFFH\n",
            "H\u001b[41mF\u001b[0mFG\n",
            "  (Right)\n",
            "SFFF\n",
            "FHFH\n",
            "FFFH\n",
            "HF\u001b[41mF\u001b[0mG\n",
            "  (Down)\n",
            "SFFF\n",
            "FHFH\n",
            "FFFH\n",
            "H\u001b[41mF\u001b[0mFG\n",
            "  (Right)\n",
            "SFFF\n",
            "FHFH\n",
            "FFFH\n",
            "H\u001b[41mF\u001b[0mFG\n",
            "  (Right)\n",
            "SFFF\n",
            "FHFH\n",
            "FFFH\n",
            "HF\u001b[41mF\u001b[0mG\n",
            "  (Down)\n",
            "SFFF\n",
            "FHFH\n",
            "FFFH\n",
            "H\u001b[41mF\u001b[0mFG\n",
            "  (Right)\n",
            "SFFF\n",
            "FHFH\n",
            "F\u001b[41mF\u001b[0mFH\n",
            "HFFG\n",
            "  (Down)\n",
            "SFFF\n",
            "FHFH\n",
            "\u001b[41mF\u001b[0mFFH\n",
            "HFFG\n",
            "  (Up)\n",
            "SFFF\n",
            "FHFH\n",
            "\u001b[41mF\u001b[0mFFH\n",
            "HFFG\n",
            "  (Up)\n",
            "SFFF\n",
            "FHFH\n",
            "F\u001b[41mF\u001b[0mFH\n",
            "HFFG\n",
            "  (Down)\n",
            "SFFF\n",
            "FHFH\n",
            "FFFH\n",
            "H\u001b[41mF\u001b[0mFG\n",
            "  (Right)\n",
            "SFFF\n",
            "FHFH\n",
            "FFFH\n",
            "HF\u001b[41mF\u001b[0mG\n",
            "  (Down)\n",
            "SFFF\n",
            "FHFH\n",
            "FFFH\n",
            "HFF\u001b[41mG\u001b[0m\n"
          ],
          "name": "stdout"
        }
      ]
    },
    {
      "cell_type": "code",
      "metadata": {
        "id": "UfADMddK7Cqs",
        "colab_type": "code",
        "colab": {
          "base_uri": "https://localhost:8080/",
          "height": 34
        },
        "outputId": "c467a6fa-3f09-4489-c4fb-436e1f979ab8"
      },
      "source": [
        "print(reward)"
      ],
      "execution_count": 40,
      "outputs": [
        {
          "output_type": "stream",
          "text": [
            "1.0\n"
          ],
          "name": "stdout"
        }
      ]
    },
    {
      "cell_type": "code",
      "metadata": {
        "id": "k5ppf5tT7Fxa",
        "colab_type": "code",
        "colab": {}
      },
      "source": [],
      "execution_count": 0,
      "outputs": []
    }
  ]
}