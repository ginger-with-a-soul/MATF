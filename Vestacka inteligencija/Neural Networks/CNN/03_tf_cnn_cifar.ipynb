{
  "nbformat": 4,
  "nbformat_minor": 0,
  "metadata": {
    "accelerator": "GPU",
    "colab": {
      "name": "03.tf.cnn.cifar.ipynb",
      "provenance": [],
      "collapsed_sections": [],
      "toc_visible": true
    },
    "kernelspec": {
      "display_name": "Python 3",
      "name": "python3"
    },
    "language_info": {
      "codemirror_mode": {
        "name": "ipython",
        "version": 3
      },
      "file_extension": ".py",
      "mimetype": "text/x-python",
      "name": "python",
      "nbconvert_exporter": "python",
      "pygments_lexer": "ipython3",
      "version": "3.6.9"
    }
  },
  "cells": [
    {
      "cell_type": "markdown",
      "metadata": {
        "colab_type": "text",
        "id": "DSPCom-KmApV"
      },
      "source": [
        "# Konvolutivne neuronske mreže\n",
        "\n",
        "Materijali su zasnovani na zvaničnom TensorFlow [tutorial](https://www.tensorflow.org/tutorials/images/cnn)-u.\n",
        "\n",
        "Ovaj primer prikazuje konstrukciju, obučavanje i korišćenje konvolutivne\n",
        "neuronske mreže (eng. convolutional neural network, cnn) za klasifikaciju\n",
        "slika iz skupa podataka [CIFAR10](https://www.cs.toronto.edu/~kriz/cifar.html)."
      ]
    },
    {
      "cell_type": "markdown",
      "metadata": {
        "colab_type": "text",
        "id": "m7KBpffWzlxH"
      },
      "source": [
        "### Import TensorFlow"
      ]
    },
    {
      "cell_type": "code",
      "metadata": {
        "colab_type": "code",
        "id": "iAve6DCL4JH4",
        "colab": {}
      },
      "source": [
        "import tensorflow as tf\n",
        "\n",
        "from tensorflow.keras import datasets, layers, models\n",
        "import matplotlib.pyplot as plt"
      ],
      "execution_count": 0,
      "outputs": []
    },
    {
      "cell_type": "markdown",
      "metadata": {
        "colab_type": "text",
        "id": "jRFxccghyMVo"
      },
      "source": [
        "### Skup podataka CIFAR10\n",
        "\n",
        "Skup podataka `CIFAR10` sadrži 60,000 slika u boji koje su podeljene u 10\n",
        "klasa, sa 6,000 slika u svakoj klasi. Skup je podeljen u 50,000 slika za\n",
        "obučavanje i 10,000 slika za testiranje."
      ]
    },
    {
      "cell_type": "code",
      "metadata": {
        "colab_type": "code",
        "id": "JWoEqyMuXFF4",
        "colab": {}
      },
      "source": [
        "(train_images, train_labels), (test_images, test_labels) = datasets.cifar10.load_data()\n",
        "\n",
        "# Normalizujemo piksele na slikama\n",
        "train_images, test_images = train_images / 255.0, test_images / 255.0"
      ],
      "execution_count": 0,
      "outputs": []
    },
    {
      "cell_type": "code",
      "metadata": {
        "id": "-fZiQdMg7tWh",
        "colab_type": "code",
        "colab": {}
      },
      "source": [
        "train_images[0].shape"
      ],
      "execution_count": 0,
      "outputs": []
    },
    {
      "cell_type": "markdown",
      "metadata": {
        "colab_type": "text",
        "id": "7wArwCTJJlUa"
      },
      "source": [
        "Pogledajmo kako izgledaju neke slike u skupu, na primer prvih 25 slika.\n"
      ]
    },
    {
      "cell_type": "code",
      "metadata": {
        "colab_type": "code",
        "id": "K3PAELE2eSU9",
        "colab": {}
      },
      "source": [
        "class_names = ['airplane', 'automobile', 'bird', 'cat', 'deer',\n",
        "               'dog', 'frog', 'horse', 'ship', 'truck']\n",
        "\n",
        "plt.figure(figsize=(10,10))\n",
        "for i in range(25):\n",
        "    plt.subplot(5, 5, i+1)\n",
        "    plt.xticks([])\n",
        "    plt.yticks([])\n",
        "    plt.grid(False)\n",
        "    plt.imshow(train_images[i], cmap=plt.cm.binary)\n",
        "    # The CIFAR labels happen to be arrays, \n",
        "    # which is why you need the extra index\n",
        "    plt.xlabel(class_names[train_labels[i][0]])\n",
        "plt.show()"
      ],
      "execution_count": 0,
      "outputs": []
    },
    {
      "cell_type": "markdown",
      "metadata": {
        "colab_type": "text",
        "id": "Oewp-wYg31t9"
      },
      "source": [
        "### Definicija modela"
      ]
    },
    {
      "cell_type": "markdown",
      "metadata": {
        "colab_type": "text",
        "id": "3hQvqXpNyN3x"
      },
      "source": [
        "U nastavku ćemo definisati prvi deo našeg modela. U ovom delu ćemo definisati\n",
        "slojeve [konvolucije](https://www.tensorflow.org/api_docs/python/tf/keras/layers/Conv2D) i [agregacije](https://www.tensorflow.org/api_docs/python/tf/keras/layers/MaxPool2D) koji za cilj imaju da nauče novu\n",
        "reprezentaciju podataka. Pomoću nove reprezentacije podataka ćemo kasnije\n",
        "da olakšamo posao klasifikacionom modelu (drugi deo našeg modela).\n",
        "\n",
        "Kao ulaz, mreža će uzeti ulaz dimenzije (visina slike, širina slike, broj kanala) uz dodatnu dimenziju\n",
        "koja se koristi za veličinu podskupa (eng. batch size).\n",
        "\n",
        "Broj kanala će biti 3 usled toga što su CIFAR slike u boji, odnosno postoje\n",
        "crveni, zeleni i plavi kanal.\n",
        "\n",
        "Kako su dimenzije slika 32x32, mreža će uzimati ulaz veličine (32, 32, 3),\n",
        "ili (3, 32, 32) u nekim drugim bibliotekama koje očekuju da prvo ide broj\n",
        "kanala.\n",
        "\n",
        "Kako bi definisali dimenziju ulaza, možemo podesiti imenovani argument\n",
        "`input_shape` pri konstrukciji prvog sloja u `Sequential` modelu.\n"
      ]
    },
    {
      "cell_type": "code",
      "metadata": {
        "colab_type": "code",
        "id": "L9YmGQBQPrdn",
        "colab": {}
      },
      "source": [
        "model = models.Sequential()\n",
        "# Dodajemo konvolutivni sloj koji ima 32 filtera veličine 3x3 sa\n",
        "# relu aktivacionom funkcijom.\n",
        "model.add(layers.Conv2D(32, (3, 3), activation='relu', input_shape=(32, 32, 3)))\n",
        "# Dodajemo agregirajući sloj koji koristi funckiju maksimuma\n",
        "# pri čemu je veličina filtera 2x2.\n",
        "model.add(layers.MaxPooling2D((2, 2)))\n",
        "model.add(layers.Conv2D(64, (3, 3), activation='relu'))\n",
        "model.add(layers.MaxPooling2D((2, 2)))\n",
        "model.add(layers.Conv2D(64, (3, 3), activation='relu'))"
      ],
      "execution_count": 0,
      "outputs": []
    },
    {
      "cell_type": "markdown",
      "metadata": {
        "colab_type": "text",
        "id": "lvDVFkg-2DPm"
      },
      "source": [
        "Možemo da pogledamo naš model koristeći `summary` funkciju."
      ]
    },
    {
      "cell_type": "code",
      "metadata": {
        "colab_type": "code",
        "id": "8-C4XBg4UTJy",
        "colab": {}
      },
      "source": [
        "model.summary()"
      ],
      "execution_count": 0,
      "outputs": []
    },
    {
      "cell_type": "markdown",
      "metadata": {
        "colab_type": "text",
        "id": "_j-AXYeZ2GO5"
      },
      "source": [
        "Možemo primetiti da broj kanala raste kako se ide dublje u mrežu.\n",
        "\n",
        "Formula za izračunavanje dimenzija izlaza konvolucije i agregacije:\n",
        "\n",
        "$$\n",
        "O_w = \\frac{W - K + 2P}{S} + 1\n",
        "$$\n",
        "\n",
        "$$\n",
        "O_h = \\frac{H - K + 2P}{S} + 1\n",
        "$$\n",
        "\n",
        "gde je:\n",
        "- $O_w$: izlazna dimenzija - širina\n",
        "- $O_h$: izlazna dimenzija - virina\n",
        "- W: širina\n",
        "- H: visina\n",
        "- P: padding\n",
        "- S: stride\n",
        "\n",
        "Odnosno, pošto su najčešće širina i visina jednake (N = W = H), možemo reći:\n",
        "\n",
        "$$\n",
        "O = \\frac{N - K + 2P}{S} + 1\n",
        "$$\n",
        "\n",
        "\n",
        "Na primer, prvi konvolutivni sloj koji smo dodali transformiše\n",
        "(32, 32, 3) u (30, 30, 32).\n",
        "\n",
        "- N = 32 = W = H\n",
        "- H = 32\n",
        "- P = 0\n",
        "- S = 1\n",
        "- K = 3\n",
        "\n",
        "$$\n",
        "O = \\frac{32 - 3 + 2 \\cdot 0}{1} + 1 = 32 - 3 + 0 + 1 = 30\n",
        "$$\n",
        "\n"
      ]
    },
    {
      "cell_type": "markdown",
      "metadata": {
        "colab_type": "text",
        "id": "_v8sVOtG37bT"
      },
      "source": [
        "### Klasifikacioni model\n",
        "U drugom delu našeg modela, želimo da napravimo klasifikacioni deo\n",
        "koji će da omogući da se izvrši klasifikacija nad CIFAR skupom podataka.\n",
        "Ovaj deo će dosta ličiti na prošle vežbe gde smo pravili klasifikacioni model\n",
        "za Fashnion Mnist skup podataka.\n",
        "\n",
        "Kako treuntno izlaz modela daje nešto oblika (4, 4, 64), neophodno je da\n",
        "to transformišemo u vektor koji će se dati kao ulaz potpuno povezanoj\n",
        "neuronskoj mreži koje će predstavljati klasifikator. Primetite da smo u primeru\n",
        "za Fashion Mnist koristi `Flatten` da transformišemo sliku u vektor, a upravo\n",
        "to ćemo učiniti i ovde.\n",
        "\n",
        "Odnosno, Flatten((4, 4, 64)) biće vektor dimenzije 4x4x64 = 1024.\n",
        "\n",
        "Kako skup ima 10 klasa, na izlazu modela ćemo staviti 10 neurona.\n"
      ]
    },
    {
      "cell_type": "code",
      "metadata": {
        "colab_type": "code",
        "id": "mRs95d6LUVEi",
        "colab": {}
      },
      "source": [
        "model.add(layers.Flatten())\n",
        "model.add(layers.Dense(64, activation='relu'))\n",
        "model.add(layers.Dense(10, activation='softmax'))"
      ],
      "execution_count": 0,
      "outputs": []
    },
    {
      "cell_type": "markdown",
      "metadata": {
        "colab_type": "text",
        "id": "ipGiQMcR4Gtq"
      },
      "source": [
        "Kompletna arhitektura modela."
      ]
    },
    {
      "cell_type": "code",
      "metadata": {
        "colab_type": "code",
        "id": "8Yu_m-TZUWGX",
        "colab": {}
      },
      "source": [
        "model.summary()"
      ],
      "execution_count": 0,
      "outputs": []
    },
    {
      "cell_type": "markdown",
      "metadata": {
        "colab_type": "text",
        "id": "P3odqfHP4M67"
      },
      "source": [
        "### Obučavanje modela"
      ]
    },
    {
      "cell_type": "code",
      "metadata": {
        "colab_type": "code",
        "id": "MdDzI75PUXrG",
        "colab": {}
      },
      "source": [
        "epochs = 10\n",
        "batch_size = 64\n",
        "num_classes = 10\n",
        "\n",
        "train_labels_cat = tf.keras.utils.to_categorical(train_labels, num_classes)\n",
        "test_labels_cat = tf.keras.utils.to_categorical(test_labels, num_classes)\n",
        "\n",
        "print(f'train_labels.shape={train_labels.shape}')\n",
        "print(f'test_labels.shape={test_labels.shape}')\n",
        "print(f'train_labels_cat.shape={train_labels_cat.shape}')\n",
        "print(f'test_labels_cat.shape={test_labels_cat.shape}')\n",
        "\n",
        "model.compile(optimizer='adam',\n",
        "              loss=tf.keras.losses.CategoricalCrossentropy(),\n",
        "              metrics=['accuracy'])\n",
        "\n",
        "\n",
        "history = model.fit(train_images, train_labels_cat, epochs=epochs,\n",
        "                    batch_size=64,  validation_data=(test_images, test_labels_cat))"
      ],
      "execution_count": 0,
      "outputs": []
    },
    {
      "cell_type": "markdown",
      "metadata": {
        "colab_type": "text",
        "id": "jKgyC5K_4O0d"
      },
      "source": [
        "### Evaluacija modela"
      ]
    },
    {
      "cell_type": "code",
      "metadata": {
        "colab_type": "code",
        "id": "gtyDF0MKUcM7",
        "colab": {}
      },
      "source": [
        "plt.plot(history.history['accuracy'], label='accuracy')\n",
        "plt.plot(history.history['val_accuracy'], label = 'val_accuracy')\n",
        "plt.xlabel('Epoch')\n",
        "plt.ylabel('Accuracy')\n",
        "plt.ylim([0.5, 1])\n",
        "plt.legend(loc='lower right')\n",
        "\n",
        "test_loss, test_acc = model.evaluate(test_images,  test_labels_cat, verbose=2)"
      ],
      "execution_count": 0,
      "outputs": []
    },
    {
      "cell_type": "code",
      "metadata": {
        "colab_type": "code",
        "id": "0LvwaKhtUdOo",
        "colab": {}
      },
      "source": [
        "print(test_acc)"
      ],
      "execution_count": 0,
      "outputs": []
    },
    {
      "cell_type": "markdown",
      "metadata": {
        "colab_type": "text",
        "id": "8cfJ8AR03gT5"
      },
      "source": [
        "Naša mreža ja ostvarila tačnost od oko 70%, naravno, to može dosta bolje!\n",
        "U narednom primeru ćemo videti neke od tehnika kako movo možemo da poboljšamo\n",
        "korišćenjem augmentacije slika kao i korišćenjem regularizacije\n",
        "izostavljanjem (eng. dropout).\n",
        "\n",
        "DOMAĆI: Pokušajte sami da poboljšate ovu tačnost! Neke od ideja:\n",
        "- Koristite dublji model\n",
        "- Povećajte broj filtera\n",
        "- Obučavajte mrežu duže\n",
        "- Menjajte `batch_size`\n",
        "- Koristite `dropout`\n"
      ]
    },
    {
      "cell_type": "markdown",
      "metadata": {
        "id": "kErqVvSl3TEZ",
        "colab_type": "text"
      },
      "source": [
        "### Čuvanje i učitavanje mreže na disku\n",
        "\n",
        "Rad u praksi sa neuronskim mrežama se retko realizuje tako što se jednom pokrene\n",
        "trening za određeni broj epoha, sačeka da se dobije mreža, i potom se ona\n",
        "koristi u daljem radu. Vrlo često u stvari imamo iterativni proces gde se mreža\n",
        "trenira do neke tačke, uzme njena verzija i pusti u produkciju, ali se \n",
        "trening mreža nastavlja. To znači da će tokom treninga postojati razne\n",
        "verzije mreže, i u smislu arhitekture, i u smislu težina.\n",
        "\n",
        "Keras nam omogućava da čuvamo i učitavamo mreže na jednostavan način putem\n",
        "funkcija `save` i `load`. Ovo ima ograničenja ukoliko se koriste\n",
        "korisnički definisane funkcije greške i slojevi, što na ovom kursu\n",
        "svakako nećemo raditi.\n",
        "\n",
        "Na primer, prethodno\n",
        "obučenu mrežu možemo sačuvati na disk (celokupan model) na sledeći\n",
        "način:"
      ]
    },
    {
      "cell_type": "code",
      "metadata": {
        "id": "5PWCH1Z839PW",
        "colab_type": "code",
        "colab": {
          "base_uri": "https://localhost:8080/",
          "height": 53
        },
        "outputId": "5e55aca7-3c12-4198-fa29-141da593aced"
      },
      "source": [
        "! mkdir models\n",
        "\n",
        "model_path = 'models/basic_network.h5'\n",
        "model.save(model_path)\n",
        "\n",
        "! ls models"
      ],
      "execution_count": 12,
      "outputs": [
        {
          "output_type": "stream",
          "text": [
            "mkdir: cannot create directory ‘models’: File exists\n",
            "basic_network.h5\n"
          ],
          "name": "stdout"
        }
      ]
    },
    {
      "cell_type": "code",
      "metadata": {
        "id": "C52tdR-_4skY",
        "colab_type": "code",
        "colab": {}
      },
      "source": [
        ""
      ],
      "execution_count": 0,
      "outputs": []
    },
    {
      "cell_type": "markdown",
      "metadata": {
        "id": "RJ9L1MSt4s5_",
        "colab_type": "text"
      },
      "source": [
        "Ova datoteka se može negde sačuvati i iskoristiti da se instancira mreža.\n",
        "Važno je napomenuti da `save` čuva arhitekturu mreže, težine mreže kao i\n",
        "informacije koje su prosleđene tokom kompilacije mreže (`compile`).\n",
        "\n",
        "Sada ćemo najpre postojeću mrežu (referenca `model`) da uništimo, a potom\n",
        "da zamislimo da smo na drugom računaru i da treba da učitamo mrežu dostupnu na\n",
        "putanji `models/basic_network.h5`."
      ]
    },
    {
      "cell_type": "code",
      "metadata": {
        "id": "NHF8N-vK4o3e",
        "colab_type": "code",
        "colab": {}
      },
      "source": [
        "backup_model = model\n",
        "model = None"
      ],
      "execution_count": 0,
      "outputs": []
    },
    {
      "cell_type": "code",
      "metadata": {
        "id": "KFWXf-WX5Krw",
        "colab_type": "code",
        "colab": {}
      },
      "source": [
        "model = tf.keras.models.load_model(model_path)"
      ],
      "execution_count": 0,
      "outputs": []
    },
    {
      "cell_type": "code",
      "metadata": {
        "id": "6F1fOJi75S7v",
        "colab_type": "code",
        "colab": {
          "base_uri": "https://localhost:8080/",
          "height": 449
        },
        "outputId": "0d0ebb8b-d32e-47c1-91cf-41f1912a955b"
      },
      "source": [
        "model.summary()"
      ],
      "execution_count": 15,
      "outputs": [
        {
          "output_type": "stream",
          "text": [
            "Model: \"sequential\"\n",
            "_________________________________________________________________\n",
            "Layer (type)                 Output Shape              Param #   \n",
            "=================================================================\n",
            "conv2d (Conv2D)              (None, 30, 30, 32)        896       \n",
            "_________________________________________________________________\n",
            "max_pooling2d (MaxPooling2D) (None, 15, 15, 32)        0         \n",
            "_________________________________________________________________\n",
            "conv2d_1 (Conv2D)            (None, 13, 13, 64)        18496     \n",
            "_________________________________________________________________\n",
            "max_pooling2d_1 (MaxPooling2 (None, 6, 6, 64)          0         \n",
            "_________________________________________________________________\n",
            "conv2d_2 (Conv2D)            (None, 4, 4, 64)          36928     \n",
            "_________________________________________________________________\n",
            "flatten (Flatten)            (None, 1024)              0         \n",
            "_________________________________________________________________\n",
            "dense (Dense)                (None, 64)                65600     \n",
            "_________________________________________________________________\n",
            "dense_1 (Dense)              (None, 10)                650       \n",
            "=================================================================\n",
            "Total params: 122,570\n",
            "Trainable params: 122,570\n",
            "Non-trainable params: 0\n",
            "_________________________________________________________________\n"
          ],
          "name": "stdout"
        }
      ]
    },
    {
      "cell_type": "code",
      "metadata": {
        "id": "qHsMKb515YDv",
        "colab_type": "code",
        "colab": {
          "base_uri": "https://localhost:8080/",
          "height": 35
        },
        "outputId": "41bf124f-5ee9-4da1-820b-2c46c151270a"
      },
      "source": [
        "test_loss, test_acc = model.evaluate(test_images,  test_labels_cat, verbose=2)"
      ],
      "execution_count": 16,
      "outputs": [
        {
          "output_type": "stream",
          "text": [
            "313/313 - 1s - loss: 0.8034 - accuracy: 0.7232\n"
          ],
          "name": "stdout"
        }
      ]
    },
    {
      "cell_type": "markdown",
      "metadata": {
        "id": "WRzzp9zc5uaD",
        "colab_type": "text"
      },
      "source": [
        "Možete primetiti da je u pitanju isti rezultat kao u prošloj ćeliji gde\n",
        "smo evaluirali mrežu.\n",
        "\n",
        "Više o čuvanju modela dostupno je na sledećoj [adresi](https://www.tensorflow.org/guide/keras/save_and_serialize)."
      ]
    },
    {
      "cell_type": "markdown",
      "metadata": {
        "id": "peuurkrf5ySc",
        "colab_type": "text"
      },
      "source": [
        "### Čuvanje modela tokom obučavanja\n",
        "\n",
        "Tokom obučavanja mreže, možda želimo da se sačuvaju razne verzije mreže jer nam\n",
        "može biti korisno da rekonstruišemo neku verziju mreže.\n",
        "\n",
        "Keras nudi `ModelCheckpoint` funkcionalnost (eng. callback) koja omogućava\n",
        "da se tokom treninga sačuva trenutna verzija modela. Više informacija\n",
        "dostupno je [ovde](https://www.tensorflow.org/api_docs/python/tf/keras/callbacks/ModelCheckpoint)."
      ]
    }
  ]
}