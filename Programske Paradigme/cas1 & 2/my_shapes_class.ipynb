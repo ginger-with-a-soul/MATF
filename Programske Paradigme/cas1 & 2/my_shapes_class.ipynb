{
 "cells": [
  {
   "cell_type": "code",
   "execution_count": 2,
   "metadata": {
    "collapsed": true,
    "pycharm": {
     "is_executing": false
    }
   },
   "outputs": [
    {
     "name": "stdout",
     "text": [
      "Circle:\nArea is: 10\nIs it fille: False\n"
     ],
     "output_type": "stream"
    }
   ],
   "source": [
    "import math\n",
    "\n",
    "class Shape:\n",
    "    \n",
    "    def __init__(self, colour = \"Black\", filled = False):\n",
    "        self.__colour = colour\n",
    "        self.__filled = filled\n",
    "    def get_colour(self):\n",
    "        return self.__colour\n",
    "    def get_filled(self):\n",
    "        return self.__filled\n",
    "    def set_filled(self, filled):\n",
    "        self.__filled = filled\n",
    "            \n",
    "class Quad(Shape):\n",
    "    \n",
    "    def __init__(self, a, b):\n",
    "        super().__init__(colour = 'Red')\n",
    "        self.__a = a\n",
    "        self.__b = b\n",
    "    \n",
    "    def get_a(self):\n",
    "        return self.__a\n",
    "    \n",
    "    def get_b(self):\n",
    "        return self.__b\n",
    "    \n",
    "    def get_area(self):\n",
    "        return self.__a * self.__b\n",
    "    \n",
    "    def get_size(self):\n",
    "        return 2 * (self.__a + self.__b)\n",
    "    \n",
    "class Circle(Shape):\n",
    "    \n",
    "    def __init__(self, r):\n",
    "        super().__init__(colour = \"Blue\")\n",
    "        self.__r = r\n",
    "    \n",
    "    def get_r(self):\n",
    "        return self.__r\n",
    "    \n",
    "    def get_area(self):\n",
    "        return math.pi * self.__r ** 2\n",
    "    \n",
    "    def get_size(self):\n",
    "        return 2 * self.__r * math.pi\n",
    "\n",
    "shape1 = Circle(10)\n",
    "print(f'Circle:\\nArea is: {shape1.get_r()}\\nIs it fille: {shape1.get_filled()}')\n",
    "        "
   ]
  }
 ],
 "metadata": {
  "kernelspec": {
   "name": "pycharm-40a70f3f",
   "language": "python",
   "display_name": "PyCharm (jupyter)"
  },
  "language_info": {
   "codemirror_mode": {
    "name": "ipython",
    "version": 2
   },
   "file_extension": ".py",
   "mimetype": "text/x-python",
   "name": "python",
   "nbconvert_exporter": "python",
   "pygments_lexer": "ipython2",
   "version": "2.7.6"
  },
  "pycharm": {
   "stem_cell": {
    "cell_type": "raw",
    "source": [],
    "metadata": {
     "collapsed": false
    }
   }
  }
 },
 "nbformat": 4,
 "nbformat_minor": 0
}