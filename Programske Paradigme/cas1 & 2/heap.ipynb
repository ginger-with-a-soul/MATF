{
 "cells": [
  {
   "cell_type": "code",
   "execution_count": 12,
   "metadata": {},
   "outputs": [
    {
     "name": "stdout",
     "output_type": "stream",
     "text": [
      "0\n",
      "[1, 3, 2, 6, 9, 5, 4, 7, 8]\n",
      "[-1, 1, 2, 6, 3, 5, 4, 7, 8, 9]\n",
      "[-1, 1, 2, 3, 4, 5, 6, 7, 8, 9]\n"
     ]
    }
   ],
   "source": [
    "import heapq\n",
    "\n",
    "someList = [1, 3, 5, 7, 9, 2, 4, 6, 8, 0]\n",
    "\n",
    "heapq.heapify(someList)\n",
    "print(someList[0])\n",
    "\n",
    "heapq.heappop(someList)\n",
    "print(someList)\n",
    "\n",
    "heapq.heappush(someList, -1)\n",
    "print(someList)\n",
    "\n",
    "def myHeapSort(iterableList):\n",
    "    heapq.heapify(iterableList)\n",
    "        \n",
    "    return [heapq.heappop(iterableList) for _ in range(len(iterableList))]\n",
    "\n",
    "print(myHeapSort(someList))"
   ]
  }
 ],
 "metadata": {
  "kernelspec": {
   "display_name": "Python 3",
   "language": "python",
   "name": "python3"
  },
  "language_info": {
   "codemirror_mode": {
    "name": "ipython",
    "version": 3
   },
   "file_extension": ".py",
   "mimetype": "text/x-python",
   "name": "python",
   "nbconvert_exporter": "python",
   "pygments_lexer": "ipython3",
   "version": "3.7.3"
  }
 },
 "nbformat": 4,
 "nbformat_minor": 4
}
